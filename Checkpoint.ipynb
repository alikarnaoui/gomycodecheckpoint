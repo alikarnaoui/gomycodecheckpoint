{
 "cells": [
  {
   "cell_type": "code",
   "execution_count": 1,
   "id": "124d629d",
   "metadata": {},
   "outputs": [
    {
     "name": "stdout",
     "output_type": "stream",
     "text": [
      "Input your First Name:ali\n",
      "Input your Last Name:karnaoui\n",
      "Ali KARNAOUI\n"
     ]
    }
   ],
   "source": [
    "fname=input(\"Input your First Name:\")\n",
    "lname=input(\"Input your Last Name:\")\n",
    "print(fname.title()+ \" \" + lname.upper())"
   ]
  },
  {
   "cell_type": "code",
   "execution_count": 2,
   "id": "6d2dda51",
   "metadata": {},
   "outputs": [
    {
     "name": "stdout",
     "output_type": "stream",
     "text": [
      "15\n",
      "1515\n",
      "151515\n",
      "153045\n"
     ]
    }
   ],
   "source": [
    "n=15\n",
    "s=0\n",
    "for i in range(3):\n",
    "    a=str(n)*(i+1)\n",
    "    s= s+int(a)\n",
    "    print(a)\n",
    "print(s)"
   ]
  },
  {
   "cell_type": "code",
   "execution_count": 4,
   "id": "f5602afe",
   "metadata": {},
   "outputs": [
    {
     "name": "stdout",
     "output_type": "stream",
     "text": [
      "write a number:3\n",
      "odd\n"
     ]
    }
   ],
   "source": [
    "x=int(input(\"write a number:\"))\n",
    "if x%2==0:\n",
    "    print(\"even\")\n",
    "else:\n",
    "    print(\"odd\")"
   ]
  },
  {
   "cell_type": "code",
   "execution_count": null,
   "id": "b5560cfe",
   "metadata": {},
   "outputs": [],
   "source": [
    "i=None\n",
    "b=\"\"\n",
    "for i in range(2000,3201):\n",
    "    if i%5!=0 and i%7==0:\n",
    "        print(i,end=\"/\")"
   ]
  },
  {
   "cell_type": "code",
   "execution_count": 7,
   "id": "d9feb816",
   "metadata": {},
   "outputs": [
    {
     "name": "stdout",
     "output_type": "stream",
     "text": [
      "1x2x3x4x24\n"
     ]
    }
   ],
   "source": [
    "n=4\n",
    "f=1\n",
    "for i in range(n):\n",
    "    f = f * (i+1)\n",
    "    print(i+1,end=\"x\")\n",
    "    \n",
    "print(f)"
   ]
  },
  {
   "cell_type": "code",
   "execution_count": 11,
   "id": "27b05436",
   "metadata": {},
   "outputs": [
    {
     "name": "stdout",
     "output_type": "stream",
     "text": [
      "hlota\n"
     ]
    }
   ],
   "source": [
    "n=\"hello team\"\n",
    "f=\"\"\n",
    "for i in range(0,len(n)):\n",
    "    if i%2 == 0:\n",
    "        f = f + n[i]\n",
    "    \n",
    "print(f)"
   ]
  },
  {
   "cell_type": "code",
   "execution_count": 37,
   "id": "80070b62",
   "metadata": {},
   "outputs": [
    {
     "name": "stdout",
     "output_type": "stream",
     "text": [
      "the price:500\n",
      "250\n"
     ]
    }
   ],
   "source": [
    "t=int(input(\"the price:\"))\n",
    "if t>=500:\n",
    "    t = t * (1 - .5)\n",
    "elif t>=200 and t<500:\n",
    "    t = t * (1 - .3)\n",
    "else:\n",
    "    t = t * (1 - .1)\n",
    "print(int(t))"
   ]
  },
  {
   "cell_type": "code",
   "execution_count": null,
   "id": "d93e9b3d",
   "metadata": {},
   "outputs": [],
   "source": []
  }
 ],
 "metadata": {
  "kernelspec": {
   "display_name": "Python 3 (ipykernel)",
   "language": "python",
   "name": "python3"
  },
  "language_info": {
   "codemirror_mode": {
    "name": "ipython",
    "version": 3
   },
   "file_extension": ".py",
   "mimetype": "text/x-python",
   "name": "python",
   "nbconvert_exporter": "python",
   "pygments_lexer": "ipython3",
   "version": "3.9.12"
  }
 },
 "nbformat": 4,
 "nbformat_minor": 5
}
